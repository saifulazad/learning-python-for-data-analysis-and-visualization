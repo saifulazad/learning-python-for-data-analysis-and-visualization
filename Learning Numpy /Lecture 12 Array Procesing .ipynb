{
 "cells": [
  {
   "cell_type": "code",
   "execution_count": 1,
   "metadata": {
    "collapsed": true
   },
   "outputs": [],
   "source": [
    "import numpy as np"
   ]
  },
  {
   "cell_type": "code",
   "execution_count": 2,
   "metadata": {
    "collapsed": true
   },
   "outputs": [],
   "source": [
    "from numpy.random import randn"
   ]
  },
  {
   "cell_type": "code",
   "execution_count": 5,
   "metadata": {},
   "outputs": [],
   "source": [
    "rand_array = randn(5,5)"
   ]
  },
  {
   "cell_type": "code",
   "execution_count": 6,
   "metadata": {},
   "outputs": [
    {
     "data": {
      "text/plain": [
       "array([[-0.50891651, -1.35376493, -1.82848366, -0.15425749,  1.66784009],\n",
       "       [ 0.25231694, -0.4955117 ,  1.64603796,  0.29910038,  0.17006621],\n",
       "       [-0.42289837, -1.75643763,  0.02364738,  1.39241516,  0.91619869],\n",
       "       [ 1.46784571, -1.70094977,  0.61615803, -0.69527919,  0.69921186],\n",
       "       [-1.01303681,  1.05364022, -1.49941215,  0.05940842,  0.39802642]])"
      ]
     },
     "execution_count": 6,
     "metadata": {},
     "output_type": "execute_result"
    }
   ],
   "source": [
    "rand_array"
   ]
  },
  {
   "cell_type": "code",
   "execution_count": 9,
   "metadata": {},
   "outputs": [],
   "source": [
    "filter_positive = np.where(rand_array<0, 0, rand_array)"
   ]
  },
  {
   "cell_type": "code",
   "execution_count": 10,
   "metadata": {},
   "outputs": [
    {
     "data": {
      "text/plain": [
       "array([[ 0.        ,  0.        ,  0.        ,  0.        ,  1.66784009],\n",
       "       [ 0.25231694,  0.        ,  1.64603796,  0.29910038,  0.17006621],\n",
       "       [ 0.        ,  0.        ,  0.02364738,  1.39241516,  0.91619869],\n",
       "       [ 1.46784571,  0.        ,  0.61615803,  0.        ,  0.69921186],\n",
       "       [ 0.        ,  1.05364022,  0.        ,  0.05940842,  0.39802642]])"
      ]
     },
     "execution_count": 10,
     "metadata": {},
     "output_type": "execute_result"
    }
   ],
   "source": [
    "filter_positive"
   ]
  },
  {
   "cell_type": "code",
   "execution_count": 11,
   "metadata": {
    "collapsed": true
   },
   "outputs": [],
   "source": [
    "A = [1, 3, 5, 6]\n",
    "B = [100, 200, 300 , 500]\n",
    "condition = [False , True , True, True]\n"
   ]
  },
  {
   "cell_type": "code",
   "execution_count": 12,
   "metadata": {
    "collapsed": true
   },
   "outputs": [],
   "source": [
    "conditional_array  = np.where(condition, A, B)"
   ]
  },
  {
   "cell_type": "code",
   "execution_count": 13,
   "metadata": {},
   "outputs": [
    {
     "data": {
      "text/plain": [
       "array([100,   3,   5,   6])"
      ]
     },
     "execution_count": 13,
     "metadata": {},
     "output_type": "execute_result"
    }
   ],
   "source": [
    "conditional_array"
   ]
  },
  {
   "cell_type": "code",
   "execution_count": null,
   "metadata": {
    "collapsed": true
   },
   "outputs": [],
   "source": []
  }
 ],
 "metadata": {
  "kernelspec": {
   "display_name": "Python 3",
   "language": "python",
   "name": "python3"
  },
  "language_info": {
   "codemirror_mode": {
    "name": "ipython",
    "version": 3
   },
   "file_extension": ".py",
   "mimetype": "text/x-python",
   "name": "python",
   "nbconvert_exporter": "python",
   "pygments_lexer": "ipython3",
   "version": "3.5.2"
  }
 },
 "nbformat": 4,
 "nbformat_minor": 2
}
